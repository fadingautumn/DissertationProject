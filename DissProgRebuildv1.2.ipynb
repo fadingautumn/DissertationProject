{
  "nbformat": 4,
  "nbformat_minor": 0,
  "metadata": {
    "colab": {
      "name": "New_accentizer.ipynb",
      "provenance": [],
      "collapsed_sections": [],
      "authorship_tag": "ABX9TyNPbRJhyr4t1WwPtg2ZtxgE",
      "include_colab_link": true
    },
    "kernelspec": {
      "name": "python3",
      "display_name": "Python 3"
    },
    "language_info": {
      "name": "python"
    }
  },
  "cells": [
    {
      "cell_type": "markdown",
      "metadata": {
        "id": "view-in-github",
        "colab_type": "text"
      },
      "source": [
        "<a href=\"https://colab.research.google.com/github/fadingautumn/DissertationProject/blob/working_with_json/New_accentizer.ipynb\" target=\"_parent\"><img src=\"https://colab.research.google.com/assets/colab-badge.svg\" alt=\"Open In Colab\"/></a>"
      ]
    },
    {
      "cell_type": "code",
      "source": [
        "pip install pymorphy2"
      ],
      "metadata": {
        "colab": {
          "base_uri": "https://localhost:8080/"
        },
        "id": "t_poViGVWoHM",
        "outputId": "813bfd09-29b7-480b-e70b-c99a98f71c90"
      },
      "execution_count": 2,
      "outputs": [
        {
          "output_type": "stream",
          "name": "stdout",
          "text": [
            "Collecting pymorphy2\n",
            "  Downloading pymorphy2-0.9.1-py3-none-any.whl (55 kB)\n",
            "\u001b[?25l\r\u001b[K     |██████                          | 10 kB 24.1 MB/s eta 0:00:01\r\u001b[K     |███████████▉                    | 20 kB 14.1 MB/s eta 0:00:01\r\u001b[K     |█████████████████▊              | 30 kB 10.5 MB/s eta 0:00:01\r\u001b[K     |███████████████████████▋        | 40 kB 9.0 MB/s eta 0:00:01\r\u001b[K     |█████████████████████████████▌  | 51 kB 5.5 MB/s eta 0:00:01\r\u001b[K     |████████████████████████████████| 55 kB 2.1 MB/s \n",
            "\u001b[?25hCollecting pymorphy2-dicts-ru<3.0,>=2.4\n",
            "  Downloading pymorphy2_dicts_ru-2.4.417127.4579844-py2.py3-none-any.whl (8.2 MB)\n",
            "\u001b[K     |████████████████████████████████| 8.2 MB 6.4 MB/s \n",
            "\u001b[?25hCollecting dawg-python>=0.7.1\n",
            "  Downloading DAWG_Python-0.7.2-py2.py3-none-any.whl (11 kB)\n",
            "Requirement already satisfied: docopt>=0.6 in /usr/local/lib/python3.7/dist-packages (from pymorphy2) (0.6.2)\n",
            "Installing collected packages: pymorphy2-dicts-ru, dawg-python, pymorphy2\n",
            "Successfully installed dawg-python-0.7.2 pymorphy2-0.9.1 pymorphy2-dicts-ru-2.4.417127.4579844\n"
          ]
        }
      ]
    },
    {
      "cell_type": "code",
      "source": [
        "nltk.download('punkt')"
      ],
      "metadata": {
        "colab": {
          "base_uri": "https://localhost:8080/"
        },
        "id": "DtHFOLpTW5If",
        "outputId": "81785289-a000-46d9-a34b-32026faadd63"
      },
      "execution_count": 9,
      "outputs": [
        {
          "output_type": "stream",
          "name": "stdout",
          "text": [
            "[nltk_data] Downloading package punkt to /root/nltk_data...\n",
            "[nltk_data]   Unzipping tokenizers/punkt.zip.\n"
          ]
        },
        {
          "output_type": "execute_result",
          "data": {
            "text/plain": [
              "True"
            ]
          },
          "metadata": {},
          "execution_count": 9
        }
      ]
    },
    {
      "cell_type": "code",
      "execution_count": 3,
      "metadata": {
        "id": "YS3gz59AquRL"
      },
      "outputs": [],
      "source": [
        "import nltk\n",
        "import pymorphy2\n",
        "import re\n",
        "import difflib\n",
        "import collections\n",
        "from collections import Counter\n",
        "from nltk import word_tokenize\n",
        "from utils import Phonetic\n",
        "phonetic = Phonetic('words_accent.json.bz2')\n",
        "morph = pymorphy2.MorphAnalyzer()\n",
        "\n",
        "dictmeter = {\n",
        "    '010101': 'Трёхстопный ямб',\n",
        "    '01010101': 'Четырёхстопный ямб',\n",
        "    '0101010101': 'Пятистопный ямб',\n",
        "    '010101010101': 'Шестистопный ямб',\n",
        "    '01010101010101': 'Семистопный ямб',\n",
        "    '0101010101010101': 'Восьмистопный ямб',\n",
        "    '101010': 'Трёхстопный хорей',\n",
        "    '10101010': 'Четырёхстопный хорей',\n",
        "    '1010101010': 'Пятистопный хорей',\n",
        "    '101010101010': 'Шестистопный хорей',\n",
        "    '10101010101010': 'Семистопный хорей',\n",
        "    '1010101010101010': 'Восьмистопный хорей',\n",
        "    '100100100': 'Трёхстопный дактиль',\n",
        "    '100100100100': 'Четырёхстопный дактиль',\n",
        "    '100100100100100': 'Пятистопный дактиль',\n",
        "    '100100100100100100': 'Шестистопный дактиль',\n",
        "    '010010010': 'Трёхстопный амфибрахий',\n",
        "    '010010010010': 'Четырёхстопный амфибрахий',\n",
        "    '010010010010010': 'Пятистопный амфибрахий',\n",
        "    '010010010010010010': 'Шестистопный амфибрахий',\n",
        "    '001001001': 'Трёхстопный анапест',\n",
        "    '001001001001': 'Четырёхстопный анапест',\n",
        "    '001001001001001': 'Пятистопный анапест',\n",
        "    '001001001001001001': 'Шестистопный анапест'\n",
        "    \n",
        "}\n",
        "\n",
        "text = open('oneg.txt', encoding = 'utf-8').read()"
      ]
    },
    {
      "cell_type": "code",
      "source": [
        "def get_numbers(token):\n",
        "  syl_count = phonetic.syllables_count(token)\n",
        "  accent_syl = phonetic.accent_syllable(token)\n",
        "  substr = ''\n",
        "  for i in range(syl_count):\n",
        "    i = '0'\n",
        "    substr += i\n",
        "  position = accent_syl - 1\n",
        "  acc_symb = '1'\n",
        "  substr = substr[:position] + acc_symb + substr[position+1:]\n",
        "  return substr\n"
      ],
      "metadata": {
        "id": "2Zx21MIPsuB0"
      },
      "execution_count": 4,
      "outputs": []
    },
    {
      "cell_type": "code",
      "source": [
        "def get_verse_size_number(rawpoem):\n",
        "    lines = rawpoem.split('\\n')\n",
        "    supersize = []\n",
        "    for line in lines:\n",
        "        cleantext = line.lower() \n",
        "        cleantext = re.sub('[^а-я]', ' ', cleantext)\n",
        "        words = nltk.word_tokenize(cleantext)\n",
        "        razmer = ''\n",
        "        for word in words:\n",
        "            razmer += get_numbers(word)\n",
        "        if razmer != '' and len(razmer) < 19:\n",
        "          supersize.append(razmer)\n",
        "    return supersize"
      ],
      "metadata": {
        "id": "bp1VPc1120zI"
      },
      "execution_count": 7,
      "outputs": []
    },
    {
      "cell_type": "code",
      "source": [
        "def best_verse_size(num_lines):\n",
        "  line_size_list = []\n",
        "  for i in get_verse_size_number(num_lines):\n",
        "    temp = 0\n",
        "    best_fit_size = ''\n",
        "    for key in dictmeter:\n",
        "      output = int(difflib.SequenceMatcher(None, i, key).ratio()*100)\n",
        "      if temp < output and temp < 100:\n",
        "        temp = output\n",
        "        best_fit_size = dictmeter[key]\n",
        "    line_size_list.append(best_fit_size)\n",
        "  counter = Counter(line_size_list)\n",
        "  max_count = counter.most_common(2)\n",
        "  max_count1 = f'{max_count[0][0]} встречается в {max_count[0][1]} строках стихотворения, а значит, он наиболее вероятен. '\n",
        "  max_count2 = f'Также программа выделила {max_count[1][0]}, который встречается в {max_count[1][1]} строках стихотворения.'\n",
        "  return max_count1 + max_count2\n",
        "\n",
        "best_verse_size(text)"
      ],
      "metadata": {
        "colab": {
          "base_uri": "https://localhost:8080/",
          "height": 53
        },
        "id": "QcW9-YxB4XNj",
        "outputId": "164c0e5e-25c5-477f-a205-48d466d605b0"
      },
      "execution_count": 10,
      "outputs": [
        {
          "output_type": "execute_result",
          "data": {
            "application/vnd.google.colaboratory.intrinsic+json": {
              "type": "string"
            },
            "text/plain": [
              "'Трёхстопный дактиль встречается в 1074 строках стихотворения, а значит, он наиболее вероятен. Также программа выделила Четырёхстопный ямб, который встречается в 999 строках стихотворения.'"
            ]
          },
          "metadata": {},
          "execution_count": 10
        }
      ]
    },
    {
      "cell_type": "code",
      "source": [
        ""
      ],
      "metadata": {
        "id": "15KOqZNDW3NA"
      },
      "execution_count": null,
      "outputs": []
    }
  ]
}
