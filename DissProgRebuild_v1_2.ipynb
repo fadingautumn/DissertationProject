{
  "nbformat": 4,
  "nbformat_minor": 0,
  "metadata": {
    "colab": {
      "name": "New_accentizer.ipynb",
      "provenance": [],
      "collapsed_sections": []
    },
    "kernelspec": {
      "name": "python3",
      "display_name": "Python 3"
    },
    "language_info": {
      "name": "python"
    }
  },
  "cells": [
    {
      "cell_type": "code",
      "execution_count": 208,
      "metadata": {
        "id": "YS3gz59AquRL"
      },
      "outputs": [],
      "source": [
        "import nltk\n",
        "import pymorphy2\n",
        "import re\n",
        "import difflib\n",
        "import collections\n",
        "from collections import Counter\n",
        "from nltk import word_tokenize\n",
        "from utils import Phonetic\n",
        "phonetic = Phonetic('words_accent.json.bz2')\n",
        "morph = pymorphy2.MorphAnalyzer()"
      ]
    },
    {
      "cell_type": "code",
      "source": [
        "def get_numbers(token):\n",
        "  syl_count = phonetic.syllables_count(token)\n",
        "  accent_syl = phonetic.accent_syllable(token)\n",
        "  substr = ''\n",
        "  for i in range(syl_count):\n",
        "    i = '0'\n",
        "    substr += i\n",
        "  position = accent_syl - 1\n",
        "  acc_symb = '1'\n",
        "  substr = substr[:position] + acc_symb + substr[position+1:]\n",
        "  return substr\n"
      ],
      "metadata": {
        "id": "2Zx21MIPsuB0"
      },
      "execution_count": 209,
      "outputs": []
    },
    {
      "cell_type": "code",
      "source": [
        "dictmeter = {\n",
        "    '010101': 'Трёхстопный ямб',\n",
        "    '01010101': 'Четырёхстопный ямб',\n",
        "    '0101010101': 'Пятистопный ямб',\n",
        "    '010101010101': 'Шестистопный ямб',\n",
        "    '01010101010101': 'Семистопный ямб',\n",
        "    '0101010101010101': 'Восьмистопный ямб',\n",
        "    '101010': 'Трёхстопный хорей',\n",
        "    '10101010': 'Четырёхстопный хорей',\n",
        "    '1010101010': 'Пятистопный хорей',\n",
        "    '101010101010': 'Шестистопный хорей',\n",
        "    '10101010101010': 'Семистопный хорей',\n",
        "    '1010101010101010': 'Восьмистопный хорей',\n",
        "    '100100100': 'Трёхстопный дактиль',\n",
        "    '100100100100': 'Четырёхстопный дактиль',\n",
        "    '100100100100100': 'Пятистопный дактиль',\n",
        "    '100100100100100100': 'Шестистопный дактиль',\n",
        "    '010010010': 'Трёхстопный амфибрахий',\n",
        "    '010010010010': 'Четырёхстопный амфибрахий',\n",
        "    '010010010010010': 'Пятистопный амфибрахий',\n",
        "    '010010010010010010': 'Шестистопный амфибрахий',\n",
        "    '001001001': 'Трёхстопный анапест',\n",
        "    '001001001001': 'Четырёхстопный анапест',\n",
        "    '001001001001001': 'Пятистопный анапест',\n",
        "    '001001001001001001': 'Шестистопный анапест'\n",
        "    \n",
        "}\n",
        "\n",
        "text = '''Буря мглою небо кроет,\n",
        "Вихри снежные крутя;\n",
        "То, как зверь, она завоет,\n",
        "То заплачет, как дитя,\n",
        "То по кровле обветшалой\n",
        "Вдруг соломой зашумит,\n",
        "То, как путник запоздалый,\n",
        "К нам в окошко застучит.\n",
        "\n",
        "Наша ветхая лачужка\n",
        "И печальна и темна.\n",
        "Что же ты, моя старушка,\n",
        "Приумолкла у окна?\n",
        "Или бури завываньем\n",
        "Ты, мой друг, утомлена,\n",
        "Или дремлешь под жужжаньем\n",
        "Своего веретена?\n",
        "\n",
        "Выпьем, добрая подружка\n",
        "Бедной юности моей,\n",
        "Выпьем с горя; где же кружка?\n",
        "Сердцу будет веселей.\n",
        "Спой мне песню, как синица\n",
        "Тихо за морем жила;\n",
        "Спой мне песню, как девица\n",
        "За водой поутру шла.\n",
        "\n",
        "Буря мглою небо кроет,\n",
        "Вихри снежные крутя;\n",
        "То, как зверь, она завоет,\n",
        "То заплачет, как дитя.\n",
        "Выпьем, добрая подружка\n",
        "Бедной юности моей,\n",
        "Выпьем с горя; где же кружка?\n",
        "Сердцу будет веселей.'''\n",
        "\n",
        "def get_verse_size_number(rawpoem):\n",
        "    lines = text.split('\\n')\n",
        "    supersize = []\n",
        "    for line in lines:\n",
        "        cleantext = line.lower() \n",
        "        cleantext = re.sub('[^а-я]', ' ', cleantext)\n",
        "        words = nltk.word_tokenize(cleantext)\n",
        "        razmer = ''\n",
        "        for word in words:\n",
        "            razmer += get_numbers(word)\n",
        "        supersize.append(razmer)\n",
        "    return supersize"
      ],
      "metadata": {
        "id": "bp1VPc1120zI"
      },
      "execution_count": 213,
      "outputs": []
    },
    {
      "cell_type": "code",
      "source": [
        "def best_verse_size(num_lines):\n",
        "  line_size_list = []\n",
        "  for i in get_verse_size(num_lines):\n",
        "    temp = 0\n",
        "    best_fit_size = ''\n",
        "    for key in dictmeter:\n",
        "      output = int(difflib.SequenceMatcher(None, i, key).ratio()*100)\n",
        "      if temp < output and temp < 100:\n",
        "        temp = output\n",
        "        best_fit_size = dictmeter[key]\n",
        "    line_size_list.append(best_fit_size)\n",
        "  counter = Counter(line_size_list)\n",
        "  max_count = counter.most_common(2)\n",
        "  max_count1 = f'{max_count[0][0]} встречается в {max_count[0][1]} строках стихотворения, а значит, он наиболее вероятен. '\n",
        "  max_count2 = f'Также программа выделила {max_count[1][0]}, который встречается в {max_count[1][1]} строках стихотворения.'\n",
        "  return max_count1 + max_count2\n",
        "\n",
        "best_verse_size(text)"
      ],
      "metadata": {
        "colab": {
          "base_uri": "https://localhost:8080/",
          "height": 53
        },
        "id": "QcW9-YxB4XNj",
        "outputId": "d60a3649-a17a-4f99-f76e-a38c4ba9a8eb"
      },
      "execution_count": 216,
      "outputs": [
        {
          "output_type": "execute_result",
          "data": {
            "application/vnd.google.colaboratory.intrinsic+json": {
              "type": "string"
            },
            "text/plain": [
              "'Трёхстопный хорей встречается в 10 строках стихотворения, а значит, он наиболее вероятен. Также программа выделила Четырёхстопный хорей, который встречается в 8 строках стихотворения.'"
            ]
          },
          "metadata": {},
          "execution_count": 216
        }
      ]
    }
  ]
}